{
 "cells": [
  {
   "cell_type": "markdown",
   "metadata": {},
   "source": [
    "# CSC421 Fall 2021 Assignment 3 \n",
    "### Author: George Tzanetakis \n",
    "\n",
    "This notebook is based on the topics covered in **Chapter 12 - Quantifying Uncertainty **, **Chapter 13 Probabilistic Reasoning** from the book *Artificial Intelligence: A Modern Approach.*  You are welcome and actually it can be educational to look at the code at the aima-code repository as well as other code resources you can find on the web. However, make sure you understand any code that you incoporate. \n",
    "\n",
    "The assignment structure is as follows - each item is worth 1 point: \n",
    "\n",
    "1. Snakes and ladder simulation (Basic) - basic rolling and movement simulation, no ladders/snakes \n",
    "2. Snakes and ladder simulation (Basic) - multiple simulations and recording of number of rolls \n",
    "3. Snakes and ladder simulation (Expected) - adding of user-specified ladders/snakes \n",
    "4. Snakes and ladder simulation (Expected) - simulation to determine probability distribution of number of rolls \n",
    "5. Snakes and ladder simulation (Advanced) - exact inference + simulation with different ending rules \n",
    "6. Naive Bayes text classsification (Basic) - conditional probabilities for dictionary words \n",
    "7. Naive Bayes text classification (Basic) - markdown equations for Bernoulli \n",
    "8. Naive Bayes text classification (Expected) - prediction of movie review polarity \n",
    "9. Naive Bayes text classification (Expected) - classification accuracy and confusion matrix \n",
    "10. Naive Bayes text classification (Advanced) - probabilitistic generation of movie reviews \n",
    "\n",
    "The grading will be done in 0.5 increments. 1 point for correct answer, 0.5 points for partial or incorrect \n",
    "but reasonable answer and 0.0 for no answer or completely wrong answer. \n"
   ]
  },
  {
   "cell_type": "markdown",
   "metadata": {},
   "source": [
    "# Introduction \n",
    "\n",
    "This question uses the board game of snakes and ladders to explore the concepts behind probability, \n",
    "stochastic simulation as well as exact and approximate inference. I assume that most of you are familiar \n",
    "with snakes and ladders. If you need a refresher check the following link: \n",
    "\n",
    "https://www.ymimports.com/pages/how-to-play-snakes-and-ladders\n",
    "\n",
    "\n"
   ]
  },
  {
   "cell_type": "markdown",
   "metadata": {},
   "source": [
    "# Question 1 (Basic)  - 1 point\n",
    "\n",
    "Your first task will be to write a simple movement simulator on a snakes and ladders board. \n",
    "For this question you can ignore the snakes and ladders and just simply assume you only \n",
    "have to deal with moving. You will need to simulate rolling the die - this can be done \n",
    "by using the Python *random* module and the *randint* method. Your function *play_game* \n",
    "will take as input the length of the board (an integer), \"play\" the game by rolling the die \n",
    "multiple times until the sum of rolls is larger or equal to the length of the board.  (note: \n",
    "this is one of the possible and simplest end rules). The function should return the total \n",
    "number of rolls required to finish the the particular game that was played. Obviously \n",
    "this number will vary as it depends on the specific random rolls performed during the movement \n",
    "simulation. \n",
    "\n",
    "\n",
    "\n",
    "\n"
   ]
  },
  {
   "cell_type": "code",
   "execution_count": 1,
   "metadata": {},
   "outputs": [
    {
     "name": "stdout",
     "output_type": "stream",
     "text": [
      "Requirement already satisfied: matplotlib in /opt/conda/lib/python3.9/site-packages (3.5.0)\n",
      "Requirement already satisfied: cycler>=0.10 in /opt/conda/lib/python3.9/site-packages (from matplotlib) (0.11.0)\n",
      "Requirement already satisfied: fonttools>=4.22.0 in /opt/conda/lib/python3.9/site-packages (from matplotlib) (4.28.1)\n",
      "Requirement already satisfied: pillow>=6.2.0 in /opt/conda/lib/python3.9/site-packages (from matplotlib) (8.4.0)\n",
      "Requirement already satisfied: python-dateutil>=2.7 in /opt/conda/lib/python3.9/site-packages (from matplotlib) (2.8.1)\n",
      "Requirement already satisfied: kiwisolver>=1.0.1 in /opt/conda/lib/python3.9/site-packages (from matplotlib) (1.3.2)\n",
      "Requirement already satisfied: numpy>=1.17 in /opt/conda/lib/python3.9/site-packages (from matplotlib) (1.21.4)\n",
      "Requirement already satisfied: packaging>=20.0 in /opt/conda/lib/python3.9/site-packages (from matplotlib) (20.9)\n",
      "Requirement already satisfied: pyparsing>=2.2.1 in /opt/conda/lib/python3.9/site-packages (from matplotlib) (2.4.7)\n",
      "Requirement already satisfied: six>=1.5 in /opt/conda/lib/python3.9/site-packages (from python-dateutil>=2.7->matplotlib) (1.16.0)\n",
      "Rolled: 1\n",
      "Rolled: 4\n",
      "Rolled: 1\n",
      "Rolled: 2\n",
      "Rolled: 1\n",
      "Rolled: 1\n",
      "Total Dice Rolls: 6\n"
     ]
    }
   ],
   "source": [
    "# YOUR CODE GOES HERE \n",
    "!pip install matplotlib\n",
    "import matplotlib as mpl\n",
    "import matplotlib.pyplot as plt\n",
    "import random\n",
    "import numpy as np\n",
    "from matplotlib import pyplot\n",
    "import numpy\n",
    "\n",
    "def play_game(length: int) -> int:\n",
    "    rolls = 0\n",
    "    board = 0\n",
    "    \n",
    "    while board < length:\n",
    "        dice = random.randint(1,6)\n",
    "        print(\"Rolled:\", dice)\n",
    "        board += dice\n",
    "        rolls+=1\n",
    "    print(\"Total Dice Rolls:\", rolls)\n",
    "    \n",
    "play_game(10)\n"
   ]
  },
  {
   "cell_type": "markdown",
   "metadata": {},
   "source": [
    "# Question 2 (Basic) - 1 point\n",
    "\n",
    "Your next task is to collect information about the probability distribution of number of rolls using the *play_game* function you implemented in the previous subquestion. Simulate playing the game 1000 times with a board length of 100 and record the number of rolls for each simulation. Show the histogram of the number of rolls for this simulation. You don't need to plot the histogram but can simply show the counts for each number of rolls as text. You can also create a plot using either the *matplotlib* or *bokeh* plotting frameworks. Make sure you include appropriate pip install and import statements in your notebook and check that it works in the Jupyterhub of the course. \n",
    "\n"
   ]
  },
  {
   "cell_type": "code",
   "execution_count": 2,
   "metadata": {
    "scrolled": true
   },
   "outputs": [
    {
     "data": {
      "image/png": "[encoded data removed]",
      "text/plain": [
       "<Figure size 432x288 with 1 Axes>"
      ]
     },
     "metadata": {
      "needs_background": "light"
     },
     "output_type": "display_data"
    }
   ],
   "source": [
    "\n",
    "\n",
    "def play_game(length: int) -> int:\n",
    "    rolls = 0\n",
    "    board = 0\n",
    "    \n",
    "    while board < length:\n",
    "        dice = random.randint(1,6)\n",
    "        board += dice\n",
    "        rolls+=1\n",
    "    return rolls\n",
    "\n",
    "total_rolls = []\n",
    "for i in range(1000):\n",
    "    total_rolls.append(play_game(100))\n",
    "    \n",
    "plt.hist (total_rolls, \"auto\", (16,46), ec=\"red\")\n",
    "plt.xlabel (\"Dice Rolls\")\n",
    "plt.ylabel (\"Number of Occurences\")\n",
    "plt.title(\"1000 Simulations\")\n",
    "\n",
    "plt.show()"
   ]
  },
  {
   "cell_type": "markdown",
   "metadata": {},
   "source": [
    "# Question 3 (Expected) 1 point \n",
    "\n",
    "Extent your *play_game* method to take as input a specification of snake and ladder positions and then perform the appropriate movement simulation. Just as before playing the game returns the number of rolls required to finish the game using the same simple end rule as the previous subquestions. \n",
    "\n",
    "<img src=\"snakes_ladders.png\" width=\"50%\"/>\n",
    "\n",
    "The snake and ladders positions will be encoded as a list of tuples. If the first number of the tuple is smaller than the second one it is ladder otherwise it is a snake. For example two of the snakes and one of the ladders\n",
    "in the board above would be represented as: "
   ]
  },
  {
   "cell_type": "code",
   "execution_count": 3,
   "metadata": {},
   "outputs": [
    {
     "name": "stdout",
     "output_type": "stream",
     "text": [
      "[(34, 6), (32, 10), (1, 38)]\n"
     ]
    }
   ],
   "source": [
    "snakeA = (34,6)\n",
    "snakeB = (32,10)\n",
    "ladderC = (1,38)\n",
    "snake_ladder_list = [snakeA,snakeB,ladderC]\n",
    "print(snake_ladder_list)"
   ]
  },
  {
   "cell_type": "markdown",
   "metadata": {},
   "source": [
    "Your play game function should take as input the snake and ladder specification. For testing and experiments use the board provided in the image above. "
   ]
  },
  {
   "cell_type": "code",
   "execution_count": 4,
   "metadata": {
    "scrolled": true
   },
   "outputs": [
    {
     "name": "stdout",
     "output_type": "stream",
     "text": [
      "ladder\n",
      "snake\n",
      "ladder\n",
      "snake\n",
      "snake\n",
      "ladder\n",
      "snake\n",
      "snake\n",
      "snake\n",
      "ladder\n",
      "snake\n"
     ]
    },
    {
     "data": {
      "text/plain": [
       "62"
      ]
     },
     "execution_count": 4,
     "metadata": {},
     "output_type": "execute_result"
    }
   ],
   "source": [
    "# YOUR CODE GOES HERE \n",
    "\n",
    "snakeA = (36,6)\n",
    "snakeB = (32,10)\n",
    "snakeC = (48,26)\n",
    "snakeD = (62,18)\n",
    "snakeE = (88,24)\n",
    "snakeF = (95,56)\n",
    "snakeG = (97,78)\n",
    "\n",
    "ladderA = (1,38)\n",
    "ladderB = (4,14)\n",
    "ladderC = (8,30)\n",
    "ladderD = (21,42)\n",
    "ladderE = (28,76)\n",
    "ladderF = (50,67)\n",
    "ladderG = (71,92)\n",
    "ladderH = (80,99)\n",
    "snake_ladder_list = [snakeA,snakeB,snakeC,snakeD,snakeE,snakeF,snakeG,\n",
    "                    ladderA,ladderB,ladderC,ladderD,ladderE,ladderF,ladderG,ladderH,]\n",
    "\n",
    "def play_game(length: int, rules: tuple) -> int:\n",
    "    rolls = 0\n",
    "    board = 0\n",
    "    \n",
    "    while board < length:\n",
    "        dice = random.randint(1,6)\n",
    "        board += dice\n",
    "        for slopes in rules:\n",
    "            if slopes[0] == board:\n",
    "                board = slopes[1]\n",
    "        rolls+=1\n",
    "    return rolls\n",
    "\n",
    "play_game(100, snake_ladder_list)"
   ]
  },
  {
   "cell_type": "markdown",
   "metadata": {},
   "source": [
    "# QUESTION 4 (EXPECTED) - 1 point"
   ]
  },
  {
   "cell_type": "markdown",
   "metadata": {},
   "source": [
    "Use the full game simulation that incoprorates the snakes and ladders, simulate 1000 games and record \n",
    "probability distribution of the number of rolls as a histogram similarly to the previous subquestion. \n",
    "Modify your code to support the following additional ending variations: \n",
    "\n",
    "* Exact landing: the piece needs to end exactly at the last square. If the roll exceeds the square then it is discarded but counted for the number of rolls \n",
    "* Bounce back variation:  If the roll is too high, the player's piece will bounce off the last space and move back. For example, if a player had four spaces to get to 100 and rolled a 6, the piece will move four spaces to 100, then “bounce back\" two spaces to 98.\n",
    "\n",
    "\n",
    "Show the histogram of the number of rolls for each ending variation. "
   ]
  },
  {
   "cell_type": "code",
   "execution_count": 14,
   "metadata": {},
   "outputs": [
    {
     "data": {
      "image/png": "[encoded data removed]",
      "text/plain": [
       "<Figure size 432x288 with 1 Axes>"
      ]
     },
     "metadata": {
      "needs_background": "light"
     },
     "output_type": "display_data"
    },
    {
     "data": {
      "image/png": "[encoded data removed]",
      "text/plain": [
       "<Figure size 432x288 with 1 Axes>"
      ]
     },
     "metadata": {
      "needs_background": "light"
     },
     "output_type": "display_data"
    }
   ],
   "source": [
    "# YOUR CODE GOES HERE\n",
    "\n",
    "def play_game_exact(length: int, rules: tuple) -> int:\n",
    "    rolls = 0\n",
    "    board = 0\n",
    "    \n",
    "    while board < length:\n",
    "        dice = random.randint(1,6)\n",
    "        board += dice\n",
    "        if (board > length):\n",
    "            board -= dice\n",
    "        for slopes in rules:\n",
    "            if slopes[0] == board:\n",
    "                board = slopes[1]\n",
    "        rolls+=1\n",
    "    return rolls\n",
    "\n",
    "def play_game_bounce(length: int, rules: tuple) -> int:\n",
    "    rolls = 0\n",
    "    board = 0\n",
    "    diff = 0\n",
    "    \n",
    "    while board < length:\n",
    "        dice = random.randint(1,6)\n",
    "        board += dice\n",
    "        if (board > length):\n",
    "            diff = board - length\n",
    "            board = length - diff\n",
    "        for slopes in rules:\n",
    "            if slopes[0] == board:\n",
    "                board = slopes[1]\n",
    "        rolls+=1\n",
    "    return rolls\n",
    "\n",
    "\n",
    "total_rolls_exact = []\n",
    "total_rolls_bounce = []\n",
    "for i in range(1000):\n",
    "    total_rolls_exact.append(play_game_exact(100, snake_ladder_list))\n",
    "    total_rolls_bounce.append(play_game_bounce(100, snake_ladder_list))\n",
    "    \n",
    "plt.hist (total_rolls_exact, \"auto\", ec=\"red\")\n",
    "plt.xlabel (\"Dice Rolls\")\n",
    "plt.ylabel (\"Number of Occurences\")\n",
    "plt.title(\"1000 Simulations\")\n",
    "\n",
    "plt.hist(total_rolls_bounce, \"auto\", ec=\"red\")\n",
    "plt.xlabel (\"Dice Rolls\")\n",
    "plt.ylabel (\"Number of Occurences\")\n",
    "plt.title(\"1000 Simulations\")\n",
    "plt.show()\n",
    "\n",
    "bins = numpy.linspace(0, 500, 100)\n",
    "\n",
    "pyplot.hist(total_rolls_exact, bins, alpha=0.5, label='x')\n",
    "pyplot.hist(total_rolls_bounce, bins, alpha=0.5, label='y')\n",
    "pyplot.legend(loc='upper right')\n",
    "pyplot.show()"
   ]
  },
  {
   "cell_type": "markdown",
   "metadata": {},
   "source": [
    "# QUESTION 5 (ADVANCED) - 1 point \n",
    "\n",
    "In this question the goal is to perform exact probabilistic inference for the number of rolls. Rather than simulating the game and recording the number of moves you will need to compute systematically the probabilities of every possible sequence of rolls. You should use the simplified version of board movement with no snakes and ladders and the simple landing rule. As an example let's consider a very short board of 4 squares. The only sequence of 1 roll that finishes the game is rolling a 4 which has $P(4) = 1/6$. For two rolls we have more possibilities such as 1,3 or 3,1 or 2,2 or 2,3 or 3,2 etc. For example the probability of (1,3) is $P(1,3) = 1/6 * 1/6$. Your code should systematically calculate the right products and sums to come up with probabilities for \n",
    "each possible number of rolls. To make this a bit simpler consider a board of length $25$. I advise that you first start by looking at very short boards and checking some of the calculations by hand. \n",
    "\n",
    "Compare the results you get from exact inference with the results you get from approximate inference for the same board length. "
   ]
  },
  {
   "cell_type": "code",
   "execution_count": 6,
   "metadata": {},
   "outputs": [],
   "source": [
    "# YOUR CODE GOES HERE \n"
   ]
  },
  {
   "cell_type": "markdown",
   "metadata": {},
   "source": [
    "# Extra ideas (no credit) \n",
    "\n",
    "* Implement a GUI for showing the snakes/ladders board and support multiple players \n"
   ]
  },
  {
   "cell_type": "markdown",
   "metadata": {},
   "source": [
    "# Text Categorization\n",
    "\n",
    "\n",
    "Text categorization is the task of assigning a given document to one of a fixed set of categories, on the basis of text it contains. Naive Bayes models are often used for this task. In these models, the query variable is\n",
    "the document category, and the effect variables are the presence/absence\n",
    "of each word in the language; the assumption is that words occur independently in documents within a given category (condititional independence), with frequencies determined by document category. Download the following file: http://www.cs.cornell.edu/People/pabo/movie-review-data/review_polarity.tar.gz containing a dataset that has been used for text mining consisting of movie reviews classified into negative and positive. You\n",
    "will see that there are two folders for the positivie and negative category and they each contain multiple text files with the reviews. You can find more information about the dataset at: \n",
    "http://www.cs.cornell.edu/People/pabo/movie-review-data/\n",
    "\n",
    "\n",
    "Our goal will be to build a simple Naive Bayes classifier for this dataset. More complicated approaches using term frequency and inverse document frequency weighting and many more words are possible but the basic concepts\n",
    "are the same. The goal is to understand the whole process so DO NOT use existing machine learning packages but rather build the classifier from scratch.\n",
    "\n",
    "Our feature vector representation for each text file will be simply a binary vector that shows which of the following words are present in the text file: Awful Bad Boring Dull Effective Enjoyable Great Hilarious. For example the text file cv996 11592.txt would be represented as (0, 0, 0, 0, 1, 0, 1, 0) because it contains Effective and Great but none of the other words."
   ]
  },
  {
   "cell_type": "markdown",
   "metadata": {},
   "source": [
    "# Question 6 (Basic) -1 point\n",
    "\n",
    "Write code that parses the text files and calculates the probabilities for each dictionary word given the review polarity\n"
   ]
  },
  {
   "cell_type": "code",
   "execution_count": 20,
   "metadata": {},
   "outputs": [
    {
     "name": "stdout",
     "output_type": "stream",
     "text": [
      "positive prob: {'awful': 0.019, 'bad': 0.255, 'boring': 0.048, 'dull': 0.023, 'effective': 0.12, 'enjoyable': 0.095, 'great': 0.408, 'hilarious': 0.125}\n",
      "negative prob: {'awful': 0.101, 'bad': 0.505, 'boring': 0.169, 'dull': 0.091, 'effective': 0.046, 'enjoyable': 0.053, 'great': 0.286, 'hilarious': 0.05}\n"
     ]
    }
   ],
   "source": [
    "# YOUR CODE GOES HERE \n",
    "import os\n",
    "\n",
    "reviews = ['awful', 'bad', 'boring', 'dull', 'effective', 'enjoyable', 'great', 'hilarious']\n",
    "review_dict_pos ={}\n",
    "review_dict_neg ={}\n",
    "directory_pos = 'txt_sentoken/pos'\n",
    "directory_neg = 'txt_sentoken/neg'\n",
    "\n",
    "for words in reviews:\n",
    "    review_dict_pos[words] = 0\n",
    "    review_dict_neg[words] = 0\n",
    "\n",
    "review_files_pos = []\n",
    "review_files_neg = []\n",
    "\n",
    "for subdir, dirs, files in os.walk(directory_pos):\n",
    "    for file in files:\n",
    "        review_files_pos.append(os.path.join(subdir, file))      \n",
    "\n",
    "for review in review_files_pos:\n",
    "    f = open(review, \"r\")\n",
    "    reviewed = f.read().lower().split()\n",
    "    for words in reviews:\n",
    "        if words in reviewed:\n",
    "            review_dict_pos[words] += 1\n",
    "\n",
    "for subdir, dirs, files in os.walk(directory_neg):\n",
    "    for file in files:\n",
    "        review_files_neg.append(os.path.join(subdir, file))            \n",
    "\n",
    "for review in review_files_neg:\n",
    "    f = open(review, \"r\")\n",
    "    reviewed = f.read().lower().split()\n",
    "    for words in reviews:\n",
    "        if words in reviewed:\n",
    "            review_dict_neg[words] += 1\n",
    "            \n",
    "for words in reviews:\n",
    "    review_dict_neg[words] = review_dict_neg[words] / 1000\n",
    "    review_dict_pos[words] = review_dict_pos[words] / 1000\n",
    "        \n",
    "print(\"positive prob:\", review_dict_pos)\n",
    "print(\"negative prob:\", review_dict_neg)"
   ]
  },
  {
   "cell_type": "markdown",
   "metadata": {},
   "source": [
    "# Question 7 (Basic)  - 1 point \n",
    "\n",
    "Explain how the probability estimates for each dictionary word given the review polarity can be combined to form a Naive Bayes classifier. You can look up Bernoulli Bayes model for this simple model where only presence/absence of a word is modeled.\n",
    "\n",
    "Your answer should be a description of the process with equations and a specific example as markdown text NOT python code. You will write the code in the next question. "
   ]
  },
  {
   "cell_type": "markdown",
   "metadata": {},
   "source": [
    "**Followed along from this video**\n",
    "https://www.youtube.com/watch?v=O2L2Uv9pdDA\n",
    "\n",
    "**Positive Probabilities**\n",
    "\n",
    "P(awful|POS) = .019, P(bad|POS) = .257, P(boring|POS) = .048, P(dull|POS) = .023, P(effective|POS) = .120, P(enjoyable|POS) = .095, P(great|POS) = .408, P(hilarious|POS) = .124\n",
    "\n",
    "P(POS) = 0.50\n",
    "\n",
    "**Negative Probabilities**\n",
    "\n",
    "P(awful|NEG) = .101, P(bad|NEG) = .505, P(boring|NEG) = .169, P(dull|NEG) = .091, P(effective|NEG) = .046, P(enjoyable|NEG) = .053, P(great|NEG) = .285, P(hilarious|NEG) = .050\n",
    "\n",
    "P(NEG) = 0.50\n",
    "\n",
    "**As there are an equal amount of positive and negative reviews, P(POS) and P(NEG) are equal (1000/2000 = 0.5)**\n",
    "\n",
    "Now that we have the probabilities of both positive and negative we can begin to classify\n",
    "\n",
    "So given a test song we can check if the word classifiers like 'awful', 'bad',... exist in the song, we set 1 if yes, 0 if not\n",
    "\n",
    "Now with the binary list, we can use this and the probabilities from above\n",
    "\n",
    "the probability_product begins as 0.5 as there are 1000/2000 files that are both positive and negative and we multiply that given the binary list and probabilities\n",
    "\n",
    "So if awful exists we'd multiply (0.5 * .019), and if it doesn't exist we'd multiply it 0.58(1 - 0.019) and we do this for all the classifier words\n",
    "\n",
    "The final product will give us the probability product given the song and probabilities of positive or negative\n",
    "\n",
    "\n"
   ]
  },
  {
   "cell_type": "markdown",
   "metadata": {},
   "source": [
    "# QUESTION 8 (EXPECTED) 1 point\n",
    "\n",
    "Write Python code for classifying a particular test instance (in our case movie review) following a Bernolli Bayes approach. Your code should calculate the likelihood the review is positive given the correspondng conditional probabilities for each dictionary word as well as the likelihood the review is negative given the corresponding conditional probabilities for each dictionary word. Check that your code works by providing a few example cases of prediction. Your code should be written from \"scratch\" and only use numpy/scipy but **NOT** machine learning libraries like scikit-learn or tensorflow.\n",
    "\n"
   ]
  },
  {
   "cell_type": "code",
   "execution_count": 8,
   "metadata": {},
   "outputs": [
    {
     "name": "stdout",
     "output_type": "stream",
     "text": [
      "negative\n"
     ]
    }
   ],
   "source": [
    "reviews = ['awful', 'bad', 'boring', 'dull', 'effective', 'enjoyable', 'great', 'hilarious']\n",
    "review_example = 'txt_sentoken/neg/cv002_17424.txt'\n",
    "f = open(review_example)\n",
    "\n",
    "positive_prob = [0.019, .257, .048, .023, .120, .095, .408,.124]\n",
    "negative_prob = [0.101, .505, .169, .091, .046, .053, .285,.050]\n",
    "\n",
    "#returns a list that classifies 1 to indicate if a word exists in the song, 0 if it doesn't\n",
    "def find_words(test_song):\n",
    "    reviews = ['awful', 'bad', 'boring', 'dull', 'effective', 'enjoyable', 'great', 'hilarious']\n",
    "    found_dict = {}\n",
    "    found_list =[]\n",
    "    for words in reviews:\n",
    "        found_dict[words] = 0\n",
    "    for words in reviews:\n",
    "        if words in test_song.lower().split():\n",
    "            found_dict[words] = 1\n",
    "    for found in found_dict:\n",
    "        found_list.append(found_dict[found])\n",
    "    return found_list\n",
    "\n",
    "def likelihood(test_song, word_probs): \n",
    "    probability_product  = 0.5\n",
    "    found_list = find_words(test_song)\n",
    "    for i in found_list:\n",
    "        if (found_list[i]==1): \n",
    "            probability = word_probs[i]\n",
    "        else: \n",
    "            probability = 1.0 - word_probs[i]\n",
    "        probability_product *= probability \n",
    "    return probability_product\n",
    "\n",
    "def predict(test_song): \n",
    "    scores = [likelihood(test_song, positive_prob), \n",
    "             likelihood(test_song, negative_prob),]\n",
    "    labels = ['positive', 'negative']\n",
    "    return labels[np.argmax(scores)]    \n",
    "\n",
    "print(predict(f.read()))"
   ]
  },
  {
   "cell_type": "markdown",
   "metadata": {},
   "source": [
    "# QUESTION 9 (EXPECTED) 1 point \n",
    "\n",
    "\n",
    "Calculate the classification accuracy and confusion matrix that you would obtain using the whole data set for both training and testing. Do not use machine learning libraries like scikit-learn or tensorflow for this only the basic numpy/scipy stuff.\n",
    "\n",
    "\n"
   ]
  },
  {
   "cell_type": "code",
   "execution_count": 9,
   "metadata": {},
   "outputs": [
    {
     "name": "stdout",
     "output_type": "stream",
     "text": [
      "True Positive 0.734\n",
      "False Positive 0.266\n",
      "True Negative 0.457\n",
      "False Negative 0.543\n"
     ]
    }
   ],
   "source": [
    "# YOUR CODE GOES HERE \n",
    "directory_pos = 'txt_sentoken/pos'\n",
    "directory_neg = 'txt_sentoken/neg'\n",
    "\n",
    "review_files_pos = []\n",
    "review_files_neg = []\n",
    "\n",
    "for subdir, dirs, files in os.walk(directory_pos):\n",
    "    for file in files:\n",
    "        review_files_pos.append(os.path.join(subdir, file))      \n",
    "\n",
    "for subdir, dirs, files in os.walk(directory_neg):\n",
    "    for file in files:\n",
    "        review_files_neg.append(os.path.join(subdir, file))    \n",
    "\n",
    "def predict_set(reviews, ground_truth_label): \n",
    "    score = 0 \n",
    "    for review in reviews:\n",
    "        f = open(review, \"r\")\n",
    "        reviewed = f.read().lower()\n",
    "        if predict(reviewed) == ground_truth_label:\n",
    "            score+=1\n",
    "    return score / 1000\n",
    "\n",
    "print('True Positive', predict_set(review_files_pos, 'positive'))\n",
    "print('False Positive', predict_set(review_files_pos, 'negative'))\n",
    "print('True Negative', predict_set(review_files_neg, 'positive'))\n",
    "print('False Negative', predict_set(review_files_neg, 'negative'))"
   ]
  },
  {
   "cell_type": "markdown",
   "metadata": {},
   "source": [
    "# QUESTION 10 (ADVANCED) 1 point \n",
    "\n",
    "One can consider the Naive Bayes classifier a generative model that can generate binary feature vectors using the associated probabilities from the training data. The idea is similar to how we do direct sampling in Bayesian Networks and depends on generating random number from a discrete distribution. Describe how you would generate random movie reviews consisting solely of the words from the dictionary using your model. Show 5 examples of randomly generated positive reviews and 5 examples of randomly generated negative reviews. Each example should consists of a subset of the words in the dictionary. Hint: use probabilities to generate both the presence and absence of a word. \n"
   ]
  },
  {
   "cell_type": "markdown",
   "metadata": {},
   "source": [
    "# Extra ideas (no credit) \n",
    "\n",
    "* Check the associated README file and see what convention is used for the 10-fold cross-validation. Calculate the classification accuracy and confusion matrix using the recommended 10-fold cross-validation. Again do NOT use \n",
    "ML libraries such as scikit-learn or tensorflow and just use numpy/scipy. \n",
    "* Implement the all the question using a ML library such as scikit-learn or tensorflow and a Naive Bayes Bernoulli classifier. \n"
   ]
  },
  {
   "cell_type": "code",
   "execution_count": null,
   "metadata": {},
   "outputs": [],
   "source": []
  },
  {
   "cell_type": "code",
   "execution_count": null,
   "metadata": {},
   "outputs": [],
   "source": []
  },
  {
   "cell_type": "code",
   "execution_count": null,
   "metadata": {},
   "outputs": [],
   "source": []
  },
  {
   "cell_type": "code",
   "execution_count": null,
   "metadata": {},
   "outputs": [],
   "source": []
  }
 ],
 "metadata": {
  "kernelspec": {
   "display_name": "Python 3",
   "language": "python",
   "name": "python3"
  },
  "language_info": {
   "codemirror_mode": {
    "name": "ipython",
    "version": 3
   },
   "file_extension": ".py",
   "mimetype": "text/x-python",
   "name": "python",
   "nbconvert_exporter": "python",
   "pygments_lexer": "ipython3",
   "version": "3.9.2"
  }
 },
 "nbformat": 4,
 "nbformat_minor": 4
}
